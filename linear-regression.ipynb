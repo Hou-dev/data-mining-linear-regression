{
 "cells": [
  {
   "cell_type": "code",
   "execution_count": 2,
   "metadata": {},
   "outputs": [
    {
     "data": {
      "image/png": "[encoded data removed]",
      "text/plain": [
       "<Figure size 432x288 with 1 Axes>"
      ]
     },
     "metadata": {
      "needs_background": "light"
     },
     "output_type": "display_data"
    }
   ],
   "source": [
    "import numpy as np\n",
    "import matplotlib.pyplot as plt\n",
    "np.random.seed(0)\n",
    "x = np.random.rand(100,1)\n",
    "y = 2 + 3 * x + np.random.rand(100,1)\n",
    "plt.scatter(x,y,s=10)\n",
    "plt.xlabel('x')\n",
    "plt.ylabel('y')\n",
    "plt.show()"
   ]
  },
  {
   "cell_type": "code",
   "execution_count": 6,
   "metadata": {},
   "outputs": [
    {
     "name": "stdout",
     "output_type": "stream",
     "text": [
      "[[ 5]\n",
      " [15]\n",
      " [25]\n",
      " [35]\n",
      " [45]\n",
      " [55]]\n",
      "[ 5 20 14 32 22 38]\n",
      "coefficient of determination:  0.7158756137479542\n",
      "intercept: [0.54]\n",
      "intercept: [5.63333333]\n",
      "Slope: [[0.54]]\n",
      "Predicted Response: \n",
      "[ 8.33333333 13.73333333 19.13333333 24.53333333 29.93333333 35.33333333]\n",
      "Predicted Response: \n",
      "[[ 8.33333333]\n",
      " [13.73333333]\n",
      " [19.13333333]\n",
      " [24.53333333]\n",
      " [29.93333333]\n",
      " [35.33333333]]\n",
      "[[0]\n",
      " [1]\n",
      " [2]\n",
      " [3]\n",
      " [4]]\n",
      "[5.63333333 6.17333333 6.71333333 7.25333333 7.79333333]\n"
     ]
    }
   ],
   "source": [
    "import numpy as np\n",
    "from sklearn.linear_model import LinearRegression\n",
    "x = np.array([5,15,25,35,45,55]).reshape((-1,1))\n",
    "y = np.array([5,20,14,32,22,38])\n",
    "print(x)\n",
    "print(y)\n",
    "model = LinearRegression()\n",
    "model.fit(x,y)\n",
    "r_sq = model.score(x,y)\n",
    "print('coefficient of determination: ',r_sq)\n",
    "print('intercept:', model.coef_)\n",
    "new_model = LinearRegression().fit(x,y.reshape((-1,1)))\n",
    "print('intercept:', new_model.intercept_)\n",
    "print('Slope:', new_model.coef_)\n",
    "y_pred = model.predict(x)\n",
    "print('Predicted Response: ', y_pred, sep = '\\n')\n",
    "y_pred = model.intercept_ + model.coef_ * x\n",
    "print('Predicted Response: ', y_pred, sep = '\\n')\n",
    "x_new = np.arange(5).reshape(-1,1)\n",
    "print(x_new)\n",
    "y_new = model.predict(x_new)\n",
    "print(y_new)"
   ]
  },
  {
   "cell_type": "code",
   "execution_count": 12,
   "metadata": {},
   "outputs": [
    {
     "name": "stdout",
     "output_type": "stream",
     "text": [
      "Slope: [[-0.19034682]]\n",
      "Intercept:  [3.67424007]\n",
      "Root Mean Squared Error:  0.6860992124587503\n",
      "R2 Score:  0.0043701501311012025\n"
     ]
    },
    {
     "data": {
      "image/png": "[encoded data removed]",
      "text/plain": [
       "<Figure size 432x288 with 1 Axes>"
      ]
     },
     "metadata": {
      "needs_background": "light"
     },
     "output_type": "display_data"
    }
   ],
   "source": [
    "import numpy as np \n",
    "import matplotlib.pyplot as plt\n",
    "from sklearn.linear_model import LinearRegression\n",
    "from sklearn.metrics import mean_squared_error, r2_score\n",
    "np.random.seed(0)\n",
    "x = np.random.rand(100,1)\n",
    "y = 2 + 3 * np.random.rand(100,1)\n",
    "regression_model=LinearRegression()\n",
    "regression_model.fit(x,y)\n",
    "y_predicted = regression_model.predict(x)\n",
    "rmse = mean_squared_error(y,y_predicted)\n",
    "r2 = r2_score(y,y_predicted)\n",
    "print('Slope:', regression_model.coef_)\n",
    "print('Intercept: ', regression_model.intercept_)\n",
    "print('Root Mean Squared Error: ', rmse)\n",
    "print('R2 Score: ', r2)\n",
    "plt.scatter(x,y, s=10)\n",
    "plt.xlabel('x')\n",
    "plt.ylabel('y')\n",
    "plt.plot(x,y_predicted, color ='r')\n",
    "plt.show()\n",
    "\n",
    "y_actual = y\n",
    "y_pred = y_predicted\n",
    "m = 10\n",
    "mse = np.sum((y_pred - y_actual)**2)\n",
    "rmse = np.sqrt(mse/m)\n",
    "ssr = np.sum((y_pred - y_actual)**2)\n",
    "sst = np.sum((y_actual - np.mean(y_actual))**2)\n",
    "r2_score = 1 - (ssr/sst)"
   ]
  },
  {
   "cell_type": "code",
   "execution_count": 16,
   "metadata": {},
   "outputs": [
    {
     "name": "stdout",
     "output_type": "stream",
     "text": [
      "[[ 0  1]\n",
      " [ 5  1]\n",
      " [15  2]\n",
      " [25  5]\n",
      " [35 11]\n",
      " [45 15]\n",
      " [55 34]\n",
      " [60 35]]\n",
      "[ 4  5 20 14 32 22 38 43]\n",
      "Coeffiecient of determination:  0.8615939258756776\n",
      "Intercept: 5.5225792751981935\n",
      "Slope:  [0.44706965 0.25502548]\n",
      "Predicted response: \n",
      "[ 5.77760476  8.012953   12.73867497 17.9744479  23.97529728 29.4660957\n",
      " 38.78227633 41.27265006]\n",
      "predicted respose: \n",
      "[ 5.77760476  8.012953   12.73867497 17.9744479  23.97529728 29.4660957\n",
      " 38.78227633 41.27265006]\n",
      "[[0 1]\n",
      " [2 3]\n",
      " [4 5]\n",
      " [6 7]\n",
      " [8 9]]\n"
     ]
    }
   ],
   "source": [
    "import numpy as np\n",
    "from sklearn.linear_model import LinearRegression\n",
    "x = [[0,1],[5,1],[15,2],[25,5],[35,11],[45,15],[55,34],[60,35]]\n",
    "y = [4,5,20,14,32,22,38,43]\n",
    "x,y = np.array(x), np.array(y)\n",
    "print(x)\n",
    "print(y)\n",
    "model = LinearRegression().fit(x,y)\n",
    "r_sq = model.score(x,y)\n",
    "print('Coeffiecient of determination: ',r_sq)\n",
    "print('Intercept:' , model.intercept_)\n",
    "print('Slope: ', model.coef_)\n",
    "y_pred = model.predict(x)\n",
    "print('Predicted response: ', y_pred, sep = '\\n')\n",
    "y_pred = model.intercept_ + np.sum(model.coef_ * x, axis=1)\n",
    "print('predicted respose: ', y_pred, sep = '\\n')\n",
    "x_new = np.arange(10).reshape((-1,2))\n",
    "print(x_new)"
   ]
  },
  {
   "cell_type": "code",
   "execution_count": 17,
   "metadata": {},
   "outputs": [
    {
     "data": {
      "text/plain": [
       "array([[3, 0, 0],\n",
       "       [0, 1, 2],\n",
       "       [2, 1, 3]], dtype=int64)"
      ]
     },
     "execution_count": 17,
     "metadata": {},
     "output_type": "execute_result"
    }
   ],
   "source": [
    "from sklearn.metrics import confusion_matrix\n",
    "y_actu = [2,0,2,2,0,1,1,2,2,0,1,2]\n",
    "y_pred = [0,0,2,1,0,2,1,0,2,0,2,2]\n",
    "confusion_matrix(y_actu, y_pred)"
   ]
  },
  {
   "cell_type": "code",
   "execution_count": 20,
   "metadata": {},
   "outputs": [
    {
     "name": "stdout",
     "output_type": "stream",
     "text": [
      "Predicted  0  1  2\n",
      "Actual            \n",
      "0          3  0  0\n",
      "1          0  1  2\n",
      "2          2  1  3\n"
     ]
    }
   ],
   "source": [
    "import pandas as pd\n",
    "y_actu = pd.Series([2,0,2,2,0,1,1,2,2,0,1,2], name = 'Actual')\n",
    "y_pred = pd.Series([0,0,2,1,0,2,1,0,2,0,2,2], name = 'Predicted')\n",
    "df_confusion = pd.crosstab(y_actu,y_pred)\n",
    "print(df_confusion)"
   ]
  },
  {
   "cell_type": "code",
   "execution_count": 23,
   "metadata": {},
   "outputs": [
    {
     "name": "stdout",
     "output_type": "stream",
     "text": [
      "Predicted  0  1  2  All\n",
      "Actual                 \n",
      "0          3  0  0    3\n",
      "1          0  1  2    3\n",
      "2          2  1  3    6\n",
      "All        5  2  5   12\n",
      "\n",
      "Predicted         0         1         2    All\n",
      "Actual                                        \n",
      "0          0.500000  0.000000  0.000000  0.125\n",
      "1          0.000000  0.166667  0.166667  0.125\n",
      "2          0.333333  0.166667  0.250000  0.250\n",
      "All        0.833333  0.333333  0.416667  0.500\n"
     ]
    }
   ],
   "source": [
    "import pandas as pd\n",
    "y_actu = pd.Series([2,0,2,2,0,1,1,2,2,0,1,2])\n",
    "y_pred = pd.Series([0,0,2,1,0,2,1,0,2,0,2,2])\n",
    "df_confusion = pd.crosstab(y_actu,y_pred,rownames=['Actual'], colnames=['Predicted'], margins = True)\n",
    "print(df_confusion)\n",
    "print('')\n",
    "df_conf_norm = df_confusion/df_confusion.sum(axis=1)\n",
    "print(df_conf_norm)"
   ]
  },
  {
   "cell_type": "code",
   "execution_count": 25,
   "metadata": {},
   "outputs": [
    {
     "data": {
      "image/png": "[encoded data removed]",
      "text/plain": [
       "<Figure size 288x288 with 2 Axes>"
      ]
     },
     "metadata": {
      "needs_background": "light"
     },
     "output_type": "display_data"
    }
   ],
   "source": [
    "import matplotlib.pyplot as plt\n",
    "import matplotlib as mpl\n",
    "def plot_confusion_matrix(df_confusion, title = 'Confusion Matrix', cmap=plt.cm.gray_r):\n",
    "    plt.matshow(df_confusion, cmap=cmap)\n",
    "    plt.colorbar()\n",
    "    tick_marks = np.arange(len(df_confusion.columns))\n",
    "    plt.xticks(tick_marks, df_confusion.columns,rotation=45)\n",
    "    plt.xticks(tick_marks, df_confusion.index)\n",
    "    plt.ylabel(df_confusion.index.name)\n",
    "    plt.xlabel(df_confusion.columns.name)\n",
    "plot_confusion_matrix(df_confusion)\n"
   ]
  },
  {
   "cell_type": "code",
   "execution_count": null,
   "metadata": {},
   "outputs": [],
   "source": []
  }
 ],
 "metadata": {
  "kernelspec": {
   "display_name": "Python 3",
   "language": "python",
   "name": "python3"
  },
  "language_info": {
   "codemirror_mode": {
    "name": "ipython",
    "version": 3
   },
   "file_extension": ".py",
   "mimetype": "text/x-python",
   "name": "python",
   "nbconvert_exporter": "python",
   "pygments_lexer": "ipython3",
   "version": "3.7.3"
  }
 },
 "nbformat": 4,
 "nbformat_minor": 2
}
